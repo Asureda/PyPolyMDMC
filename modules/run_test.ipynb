{
 "cells": [
  {
   "cell_type": "code",
   "execution_count": 1,
   "id": "fc4772d3",
   "metadata": {},
   "outputs": [],
   "source": [
    "import numpy as np"
   ]
  },
  {
   "cell_type": "code",
   "execution_count": 2,
   "id": "49e88fa0-284b-45c3-8c92-2aa804da1fbc",
   "metadata": {
    "scrolled": true,
    "tags": []
   },
   "outputs": [
    {
     "name": "stdout",
     "output_type": "stream",
     "text": [
      "Properties passades\n",
      "Bonded interactions passades\n",
      "8\n",
      "Polimer created\n",
      "ions created\n",
      "Non Bonded interactions passades\n",
      "Reactions passades\n"
     ]
    }
   ],
   "source": [
    "from Properties import Properties\n",
    "from Model import Model\n",
    "from EnsembleDynamics import EnsembleDynamics\n",
    "from utils import ideal_alpha\n",
    "modelParameters = {\n",
    "    \"Thermal properties\": {\n",
    "        \"Temperature\": 300,\n",
    "    },\n",
    "    \"System properties\": {\n",
    "        \"Number of polymers\": 1,\n",
    "        \"Concentration acid particles\": 1e-3,\n",
    "        \"Concentration salt particles\": 1e-1,\n",
    "        \"Number of monomers\": 22,\n",
    "        \"NH monomers\": 6,\n",
    "        \"NH2 monomers\": 2,\n",
    "        \"bond length\": 1.5,\n",
    "        \"bond constant\": 300,\n",
    "        \"bending constant\": 0.01, # Optional\n",
    "        \"dihedral constant\": 100., # Optional\n",
    "    },\n",
    "    \"Particles properties\" : {\n",
    "        \"HA\": {\"index\": 0, \"charge\": +1, \"sigma\": 2*2.6, \"epsilon\": 231},\n",
    "        \"A\": {\"index\": 1, \"charge\": 0, \"sigma\": 2*3.172, \"epsilon\": 231},\n",
    "        \"B\": {\"index\": 2, \"charge\": +1, \"sigma\": 2*2.958, \"epsilon\": 0.0726},\n",
    "        \"N\": {\"index\": 3, \"charge\": 0, \"sigma\": 2*3.93, \"epsilon\": 56.0},\n",
    "        \"Na\": {\"index\": 4, \"charge\": +1, \"sigma\": 2*3.9624, \"epsilon\": 0.738},\n",
    "        \"Cl\": {\"index\": 5, \"charge\": -1, \"sigma\": 2*3.915, \"epsilon\": 0.305},\n",
    "        \"HA2\": {\"index\": 6, \"charge\": +1, \"sigma\": 2*2.6, \"epsilon\": 231},\n",
    "        \"A2\": {\"index\": 7, \"charge\": 0, \"sigma\": 2*3.172, \"epsilon\": 231},\n",
    "    },\n",
    "\n",
    "    \"pH properties\": {\n",
    "        \"pK1\": 8.18,\n",
    "        \"pK2\": 10.02,\n",
    "        \"NUM_PHS\": 8,\n",
    "        \"pHmin\": 2.5,\n",
    "        \"pHmax\": 12.0,\n",
    "        },\n",
    "    \"Montecarlo properties\": {\n",
    "        \"N_BLOCKS\": 16,\n",
    "        \"DESIRED_BLOCK_SIZE\": 100,\n",
    "        \"PROB_REACTION\": 0.6,\n",
    "    },\n",
    "    \"Simulation configuration\": {\n",
    "        \"time step\": 0.001,\n",
    "        \"USE_WCA\": False,\n",
    "        \"USE_ELECTROSTATICS\": False,\n",
    "        \"USE_FENE\": False,\n",
    "        \"USE_BENDING\": False,\n",
    "        \"USE_DIHEDRAL_POT\": False,\n",
    "        \"USE_P3M\": False,\n",
    "    },\n",
    "\n",
    "}\n",
    "\n",
    "#test = Properties(modelParameters)\n",
    "#model = Model(modelParameters)\n",
    "ensemble = EnsembleDynamics(modelParameters)\n"
   ]
  },
  {
   "cell_type": "code",
   "execution_count": 3,
   "id": "c3ee926f",
   "metadata": {},
   "outputs": [
    {
     "name": "stdout",
     "output_type": "stream",
     "text": [
      "Run pH 7.50 ...\n",
      "time: 0.00, n_NH: 0.00, n_NH2: 0.00, pH: 7.50, energy: 0.000,e_kin: 0.000,e_coulomb: 0.000,e_bonded: 0.000,e_non_bonded: 0.000, Temperature: 0.000\n",
      "time: 0.00, n_NH: 0.00, n_NH2: 0.00, pH: 7.50, energy: 0.000,e_kin: 0.000,e_coulomb: 0.000,e_bonded: 0.000,e_non_bonded: 0.000, Temperature: 0.000\n",
      "time: 0.00, n_NH: 0.00, n_NH2: 0.00, pH: 7.50, energy: 0.000,e_kin: 0.000,e_coulomb: 0.000,e_bonded: 0.000,e_non_bonded: 0.000, Temperature: 0.000\n",
      "time: 0.00, n_NH: 0.00, n_NH2: 0.00, pH: 7.50, energy: 0.000,e_kin: 0.000,e_coulomb: 0.000,e_bonded: 0.000,e_non_bonded: 0.000, Temperature: 0.000\n",
      "time: 0.00, n_NH: 3.00, n_NH2: 0.00, pH: 7.50, energy: 5.026,e_kin: 5.026,e_coulomb: 0.000,e_bonded: 0.000,e_non_bonded: 0.000, Temperature: 0.001\n",
      "time: 0.00, n_NH: 1.00, n_NH2: 0.00, pH: 7.50, energy: 2.809,e_kin: 2.809,e_coulomb: 0.000,e_bonded: 0.000,e_non_bonded: 0.000, Temperature: 0.000\n",
      "time: 0.00, n_NH: 1.00, n_NH2: 0.00, pH: 7.50, energy: 1.728,e_kin: 1.728,e_coulomb: 0.000,e_bonded: 0.000,e_non_bonded: 0.000, Temperature: 0.000\n",
      "time: 0.00, n_NH: 2.00, n_NH2: 0.00, pH: 7.50, energy: 3.724,e_kin: 3.724,e_coulomb: 0.000,e_bonded: 0.000,e_non_bonded: 0.000, Temperature: 0.001\n",
      "time: 0.00, n_NH: 1.00, n_NH2: 0.00, pH: 7.50, energy: 1.823,e_kin: 1.823,e_coulomb: 0.000,e_bonded: 0.000,e_non_bonded: 0.000, Temperature: 0.000\n",
      "time: 0.00, n_NH: 2.00, n_NH2: 0.00, pH: 7.50, energy: 3.271,e_kin: 3.271,e_coulomb: 0.000,e_bonded: 0.000,e_non_bonded: 0.000, Temperature: 0.000\n",
      "time: 0.00, n_NH: 1.00, n_NH2: 0.00, pH: 7.50, energy: 0.323,e_kin: 0.323,e_coulomb: 0.000,e_bonded: 0.000,e_non_bonded: 0.000, Temperature: 0.000\n",
      "time: 0.00, n_NH: 2.00, n_NH2: 0.00, pH: 7.50, energy: 3.655,e_kin: 3.655,e_coulomb: 0.000,e_bonded: 0.000,e_non_bonded: 0.000, Temperature: 0.001\n",
      "time: 0.00, n_NH: 2.00, n_NH2: 0.00, pH: 7.50, energy: 1.347,e_kin: 1.347,e_coulomb: 0.000,e_bonded: 0.000,e_non_bonded: 0.000, Temperature: 0.000\n",
      "time: 0.00, n_NH: 1.00, n_NH2: 0.00, pH: 7.50, energy: 1.052,e_kin: 1.052,e_coulomb: 0.000,e_bonded: 0.000,e_non_bonded: 0.000, Temperature: 0.000\n",
      "measured number of NH: 1.05, (ideal: 1.04)\n",
      "measured number of NH2: 0.01, (ideal: 0.01)\n",
      "measured number of NH2+NH: 1.06, (ideal: 1.04)\n",
      "measured number of B+: 1.06)\n"
     ]
    }
   ],
   "source": [
    "pH = 7.5\n",
    "print(f\"Run pH {pH:.2f} ...\")\n",
    "\n",
    "ensemble.equilibrate_pH()  # pre-equilibrate to the new pH value\n",
    "ensemble.perform_sampling(pH)  # perform sampling/ run production simulation\n",
    "    #vtf.writevcf(system, outfile) #Write the final configuration at each pH production runç\n",
    "print(f\"measured number of NH: {np.mean(ensemble.num_As):.2f}, (ideal: {ensemble.n_nh*ideal_alpha(pH, ensemble.pK):.2f})\")\n",
    "print(f\"measured number of NH2: {np.mean(ensemble.num_As2):.2f}, (ideal: {ensemble.n_nh2*ideal_alpha(pH, ensemble.pK2):.2f})\")\n",
    "print(f\"measured number of NH2+NH: {np.mean(ensemble.num_As)+np.mean(ensemble.num_As2):.2f}, (ideal: {ensemble.n_nh*ideal_alpha(pH, ensemble.pK)+ensemble.n_nh2*ideal_alpha(pH, ensemble.pK2):.2f})\")\n",
    "print(f\"measured number of B+: {np.mean(ensemble.num_B):.2f})\")\n",
    "\n",
    "\n"
   ]
  },
  {
   "cell_type": "code",
   "execution_count": 6,
   "id": "74498fea",
   "metadata": {},
   "outputs": [
    {
     "data": {
      "text/plain": [
       "['__class__',\n",
       " '__delattr__',\n",
       " '__dir__',\n",
       " '__doc__',\n",
       " '__eq__',\n",
       " '__format__',\n",
       " '__ge__',\n",
       " '__getattribute__',\n",
       " '__getstate__',\n",
       " '__gt__',\n",
       " '__hash__',\n",
       " '__init__',\n",
       " '__init_subclass__',\n",
       " '__iter__',\n",
       " '__le__',\n",
       " '__len__',\n",
       " '__lt__',\n",
       " '__ne__',\n",
       " '__new__',\n",
       " '__reduce__',\n",
       " '__reduce_cython__',\n",
       " '__reduce_ex__',\n",
       " '__repr__',\n",
       " '__setattr__',\n",
       " '__setstate__',\n",
       " '__setstate_cython__',\n",
       " '__sizeof__',\n",
       " '__str__',\n",
       " '__subclasshook__',\n",
       " '_place_new_particle',\n",
       " '_place_new_particles',\n",
       " 'add',\n",
       " 'all',\n",
       " 'by_id',\n",
       " 'by_ids',\n",
       " 'clear',\n",
       " 'exists',\n",
       " 'highest_particle_id',\n",
       " 'n_part_types',\n",
       " 'n_rigidbonds',\n",
       " 'pairs',\n",
       " 'select',\n",
       " 'writevtk']"
      ]
     },
     "execution_count": 6,
     "metadata": {},
     "output_type": "execute_result"
    }
   ],
   "source": [
    "dir(ensemble.system.part)"
   ]
  },
  {
   "cell_type": "code",
   "execution_count": null,
   "id": "a76ff665",
   "metadata": {},
   "outputs": [],
   "source": []
  }
 ],
 "metadata": {
  "kernelspec": {
   "display_name": "Python 3 (ipykernel)",
   "language": "python",
   "name": "python3"
  },
  "language_info": {
   "codemirror_mode": {
    "name": "ipython",
    "version": 3
   },
   "file_extension": ".py",
   "mimetype": "text/x-python",
   "name": "python",
   "nbconvert_exporter": "python",
   "pygments_lexer": "ipython3",
   "version": "3.10.6"
  }
 },
 "nbformat": 4,
 "nbformat_minor": 5
}
